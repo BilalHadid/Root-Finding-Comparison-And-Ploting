{
 "cells": [
  {
   "cell_type": "markdown",
   "metadata": {},
   "source": [
    "# <center>Bisection Method</center>"
   ]
  },
  {
   "cell_type": "code",
   "execution_count": 76,
   "metadata": {},
   "outputs": [
    {
     "name": "stdout",
     "output_type": "stream",
     "text": [
      "-6.103515625e-05\n",
      "Iteration 16\n",
      "Bisection iteration is 16\n"
     ]
    }
   ],
   "source": [
    "import numpy as np\n",
    "def f(x):\n",
    "    return np.cos(x)-1.3*x\n",
    "a = -2\n",
    "b = 2\n",
    "tol = 0.0001\n",
    "count = 0\n",
    "while(np.abs(a-b)>=tol):\n",
    "    c = (a + b) / 2\n",
    "    d = f(a)*f(b)\n",
    "    count = count + 1\n",
    "    if d > tol:\n",
    "        a = c\n",
    "    else:\n",
    "        b = c\n",
    "        \n",
    "print(c)\n",
    "print('Iteration' ,count)\n",
    "\n",
    "Bisection = count\n",
    "print(\"Bisection iteration is\",Bisection)"
   ]
  },
  {
   "cell_type": "markdown",
   "metadata": {},
   "source": [
    "# <center>Regula Falsi</center>"
   ]
  },
  {
   "cell_type": "code",
   "execution_count": 77,
   "metadata": {},
   "outputs": [
    {
     "name": "stdout",
     "output_type": "stream",
     "text": [
      "0.6241845567369715\n",
      "Iteration 4\n",
      "Requla Falsi iteration is 4\n"
     ]
    }
   ],
   "source": [
    "import numpy as np\n",
    "\n",
    "def f(x):\n",
    "    return np.cos(x) - 1.3*x\n",
    "\n",
    "\n",
    "a = 0; b = 2; tol = 0.0001; c = a\n",
    "\n",
    "count = 0\n",
    "for i in range(1,10):\n",
    "    prev = c\n",
    "    c= ((a*f(b)) - (b*f(a))) / (f(b) - f(a))\n",
    "    if np.abs(prev-c)<tol:\n",
    "        count = count + 1\n",
    "    if (f(a)*f(c)) < 0:\n",
    "          b = c\n",
    "    else:\n",
    "          a = c\n",
    "\n",
    "            \n",
    "print(c)\n",
    "print('Iteration' ,count)\n",
    "RegulaFalsi = count\n",
    "print(\"Requla Falsi iteration is\" , count)\n"
   ]
  },
  {
   "cell_type": "markdown",
   "metadata": {},
   "source": [
    "# <center>Secant Method</center>"
   ]
  },
  {
   "cell_type": "code",
   "execution_count": 78,
   "metadata": {},
   "outputs": [
    {
     "name": "stdout",
     "output_type": "stream",
     "text": [
      "Root of the given equation = 0.6242327112113022\n",
      "No. of iterations =  3\n",
      "Secant iteration is  3\n"
     ]
    }
   ],
   "source": [
    "import numpy as np\n",
    "x1 = 0\n",
    "x2 = 1\n",
    "E = 0.0001\n",
    "def f(x):\n",
    "    f = np.cos(x) - 1.3*x\n",
    "    return f\n",
    "iteration = 0; xm = 0; x0 = 0; c = 0;\n",
    "if (f(x1)*f(x2) < 0):\n",
    "    while abs(E) >= 0.0001:\n",
    "        x0= ((x1 * f(x2) - x2 * f(x1)) / (f(x2) - f(x1)));  \n",
    "        c = f(x1) * f(x0);\n",
    "    \n",
    "        x1 = x2;  \n",
    "        x2 = x0; \n",
    "        iteration = iteration + 1\n",
    "        \n",
    "        xm = ((x1 * f(x2) - x2 * f(x1)) / (f(x2) - f(x1))); \n",
    "              \n",
    "        if(abs(xm - x0) < E): \n",
    "                break; \n",
    "else: \n",
    "    print(\"not find root\");  \n",
    "print(\"Root of the given equation =\", x0);  \n",
    "print(\"No. of iterations = \", iteration); \n",
    "Secant = iteration\n",
    "print(\"Secant iteration is \", iteration)\n"
   ]
  },
  {
   "cell_type": "markdown",
   "metadata": {},
   "source": [
    "# <center>Newton Raphson</center>"
   ]
  },
  {
   "cell_type": "code",
   "execution_count": 79,
   "metadata": {},
   "outputs": [
    {
     "name": "stdout",
     "output_type": "stream",
     "text": [
      "No. of iteration 5\n",
      "The root is 0.6241838006385523\n",
      "Newton Iteration is 5\n"
     ]
    }
   ],
   "source": [
    "import numpy as np\n",
    "from scipy.misc import derivative\n",
    "def f(x):\n",
    "    return np.cos(x) - 1.3 * x\n",
    "\n",
    "x = 2\n",
    "h = 0.0001\n",
    "iteration = 0\n",
    "while abs(h) >= 0.0001:\n",
    "    h= f(x)/derivative(f,x)\n",
    "    x = x-h\n",
    "    iteration = iteration+1\n",
    "print(\"No. of iteration\",iteration)\n",
    "print(\"The root is\",x)\n",
    "Newton = iteration\n",
    "print(\"Newton Iteration is\", Newton)\n"
   ]
  },
  {
   "cell_type": "markdown",
   "metadata": {},
   "source": [
    "# Muller Method"
   ]
  },
  {
   "cell_type": "code",
   "execution_count": 80,
   "metadata": {},
   "outputs": [
    {
     "name": "stdout",
     "output_type": "stream",
     "text": [
      "0 0.6020949067008785 0.04142755271527643\n",
      "1 0.6233631288368782 0.0015476940176513132\n",
      "2 0.6241863262318152 -3.2948009807132195e-06\n",
      "3  iterations\n",
      "muller iteration is  3\n"
     ]
    }
   ],
   "source": [
    "import cmath\n",
    "import numpy as np\n",
    "def f(x):\n",
    "    return np.cos(x) - 1.3 * x\n",
    "x0=2\n",
    "x1=1\n",
    "x2=0\n",
    "i=0\n",
    "epilson=0.0001\n",
    "while(np.abs(f(x0))>epilson):\n",
    "    h0=(x1-x0)\n",
    "    h1=(x2-x1)\n",
    "    sigma0=((f(x1)-f(x0))/h0)\n",
    "    sigma1=((f(x2)-f(x1))/h1)\n",
    "    a=((sigma1-sigma0)/(h1+h0))\n",
    "    b=((a*h1)+sigma1)\n",
    "    c=f(x2)\n",
    "    r=x2+((-2*c)/(b+cmath.sqrt(b**2-4*a*c)))\n",
    "    s=x2+((-2*c)/(b-cmath.sqrt(b**2-4*a*c)))\n",
    "    if(abs(f(r))<abs(f(s))):\n",
    "        xplus=r\n",
    "    else:\n",
    "        xplus=s\n",
    "    if xplus.imag==0j:\n",
    "        xplus=xplus.real\n",
    "        print(i,xplus,f(xplus))\n",
    "    else:\n",
    "        print(i,\"\\t{:.4f}\".format(xplus)+\"\\t{:.4f}\".format(f(xplus)))\n",
    "    x2=x1\n",
    "    x1=x0\n",
    "    x0=xplus\n",
    "    i+=1\n",
    "print((i),\" iterations\")\n",
    "Muller = i\n",
    "print(\"muller iteration is \", Muller)"
   ]
  },
  {
   "cell_type": "markdown",
   "metadata": {},
   "source": [
    "# <center>Compare their efficiency in terms of iteration</center> "
   ]
  },
  {
   "cell_type": "code",
   "execution_count": 81,
   "metadata": {},
   "outputs": [
    {
     "name": "stdout",
     "output_type": "stream",
     "text": [
      "Secant is efficient\n"
     ]
    }
   ],
   "source": [
    "Bisection = Bisection\n",
    "Regula = RegulaFalsi\n",
    "Secant = Secant\n",
    "Newton = Newton\n",
    "Muller = Muller\n",
    "if Bisection <= Regula and Bisection <=Secant and Bisection <=Newton and Bisection <= Muller:\n",
    "    print(\"Bisection is efficient\")\n",
    "elif Regula <= Bisection and Regula <= Secant and Regula <= Newton and Regula <= Muller:\n",
    "    print(\"Regula is efficient\")\n",
    "elif Secant <= Bisection and Secant <= Regula and Secant <= Newton and Secant <= Muller:\n",
    "    print(\"Secant is efficient\")\n",
    "elif Newton <= Bisection and Newton <= Regula and Newton <= Secant and Newton <= Muller:\n",
    "    print(\"Newton is Efficient\")\n",
    "elif Muller <= Bisection and Muller <= Regula and Muller <= Secant and Muller <= Newton:\n",
    "    print(\"Muller is also efficient but Secant will be efficient\")\n",
    "else:\n",
    "    print(\"I thing your root is wrong\")"
   ]
  },
  {
   "cell_type": "code",
   "execution_count": 82,
   "metadata": {},
   "outputs": [],
   "source": [
    "import matplotlib.pyplot as plt"
   ]
  },
  {
   "cell_type": "code",
   "execution_count": 83,
   "metadata": {},
   "outputs": [],
   "source": [
    "\n",
    "Method = [Bisection,RegulaFalsi,Secant,Newton,Muller]\n",
    "iteration = [\"Bisection\",\"RegulaFalsi\",\"Secant\",\"Newton\",\"Muller\"]"
   ]
  },
  {
   "cell_type": "code",
   "execution_count": 84,
   "metadata": {},
   "outputs": [
    {
     "data": {
      "image/png": "[encoded data removed]",
      "text/plain": [
       "<Figure size 432x288 with 1 Axes>"
      ]
     },
     "metadata": {
      "needs_background": "light"
     },
     "output_type": "display_data"
    }
   ],
   "source": [
    "plt.grid()\n",
    "plt.title(\"Root Finding\")\n",
    "plt.xlim([2,20])\n",
    "plt.plot(Method,iteration)\n",
    "\n",
    "plt.show()"
   ]
  },
  {
   "cell_type": "code",
   "execution_count": null,
   "metadata": {},
   "outputs": [],
   "source": []
  },
  {
   "cell_type": "code",
   "execution_count": null,
   "metadata": {},
   "outputs": [],
   "source": []
  }
 ],
 "metadata": {
  "kernelspec": {
   "display_name": "Python 3",
   "language": "python",
   "name": "python3"
  },
  "language_info": {
   "codemirror_mode": {
    "name": "ipython",
    "version": 3
   },
   "file_extension": ".py",
   "mimetype": "text/x-python",
   "name": "python",
   "nbconvert_exporter": "python",
   "pygments_lexer": "ipython3",
   "version": "3.7.3"
  }
 },
 "nbformat": 4,
 "nbformat_minor": 2
}
